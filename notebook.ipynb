{
 "cells": [
  {
   "cell_type": "code",
   "execution_count": 1,
   "id": "a6483a2b",
   "metadata": {},
   "outputs": [],
   "source": [
    "from selenium import webdriver\n",
    "from selenium.webdriver.common.by import By\n",
    "from datetime import datetime\n",
    "from selenium.webdriver.chrome.options import Options\n",
    "from selenium.webdriver.chrome.service import Service\n",
    "import re\n",
    "from time import sleep"
   ]
  },
  {
   "cell_type": "code",
   "execution_count": 2,
   "id": "00f02a5c",
   "metadata": {},
   "outputs": [],
   "source": [
    "chrome_options = Options()\n",
    "chrome_options.add_argument('--lang=en-US')\n",
    "chrome_options.add_argument('--headless')\n",
    "driver_service = Service(executable_path = 'chromedriver')\n",
    "driver = webdriver.Chrome(service=driver_service, options=chrome_options)\n",
    "driver.get('https://www.facebook.com/pythonprogramming.net')\n",
    "sleep(5)"
   ]
  },
  {
   "cell_type": "code",
   "execution_count": 3,
   "id": "67661e17",
   "metadata": {},
   "outputs": [],
   "source": [
    "def class_name_format(class_name):\n",
    "    return re.sub(' +', ' ', class_name).replace(\" \", \".\") "
   ]
  },
  {
   "cell_type": "code",
   "execution_count": 4,
   "id": "05f040d6",
   "metadata": {},
   "outputs": [],
   "source": [
    "def scrap_info(class_name, index = 0):\n",
    "    try:\n",
    "        class_name_formatted = class_name_format(class_name)\n",
    "        class_name_element = driver.find_elements(By.CLASS_NAME, class_name_formatted)[index]\n",
    "        info = class_name_element.text\n",
    "    except Exception as e:\n",
    "        return f\"A PROBLEM OCCURED {e} \"\n",
    "    return info     "
   ]
  },
  {
   "cell_type": "code",
   "execution_count": 14,
   "id": "3435f6a3",
   "metadata": {},
   "outputs": [],
   "source": [
    "def scrap_fb_python_page():    \n",
    "    data = dict()  \n",
    "    sleep(2)\n",
    "    data[\"page_name\"] = scrap_info('x78zum5 xdt5ytf x1wsgfga x9otpla')\n",
    "    text_likes = scrap_info('x1i10hfl xjbqb8w x6umtig x1b1mbwd xaqea5y xav7gou x9f619 x1ypdohk xt0psk2 xe8uvvx xdj266r x11i5rnm xat24cr x1mh8g0r xexx8yu x4uap5 x18d9i69 xkhd6sd x16tdsg8 x1hl2dhg xggy1nq x1a2a7pz xt0b8zv xi81zsa x1s688f')\n",
    "    data[\"nb_likes\"] = text_likes.split(\" \")[0]\n",
    "    text_follower = scrap_info('x1i10hfl xjbqb8w x6umtig x1b1mbwd xaqea5y xav7gou x9f619 x1ypdohk xt0psk2 xe8uvvx xdj266r x11i5rnm xat24cr x1mh8g0r xexx8yu x4uap5 x18d9i69 xkhd6sd x16tdsg8 x1hl2dhg xggy1nq x1a2a7pz xt0b8zv xi81zsa x1s688f', 1)\n",
    "    data[\"nb_follower\"] = text_follower.split(\" \")[0]\n",
    "    text_page_type = scrap_info('x193iq5w xeuugli x13faqbe x1vvkbs x1xmvt09 x6prxxf xvq8zen xo1l8bm xzsf02u', 2)\n",
    "    data[\"page_type\"] = text_page_type.split(\"·\")[1].strip()\n",
    "    data[\"contact\"]= scrap_info('x193iq5w xeuugli x13faqbe x1vvkbs x1xmvt09 x1lliihq x1s928wv xhkezso x1gmr53x x1cpjm7i x1fgarty x1943h6x xudqn12 x3x7a5m x6prxxf xvq8zen xo1l8bm xzsf02u x1yc453h', 1)\n",
    "    data[\"website\"]= scrap_info('x193iq5w xeuugli x13faqbe x1vvkbs x1xmvt09 x1lliihq x1s928wv xhkezso x1gmr53x x1cpjm7i x1fgarty x1943h6x xudqn12 x3x7a5m x6prxxf xvq8zen xo1l8bm x1qq9wsj x1yc453h')\n",
    "    data[\"description\"]= scrap_info('x193iq5w xeuugli x13faqbe x1vvkbs x1xmvt09 x6prxxf xvq8zen xo1l8bm xzsf02u',1)\n",
    "    driver.get(\"https://www.facebook.com/pythonprogramming.net/about_profile_transparency\")\n",
    "    sleep(3)\n",
    "    i = 0\n",
    "    while i<3:\n",
    "        try:\n",
    "            data[\"creation_date\"] = scrap_info('x193iq5w xeuugli x13faqbe x1vvkbs x1xmvt09 x1lliihq x1s928wv xhkezso x1gmr53x x1cpjm7i x1fgarty x1943h6x xudqn12 x3x7a5m x6prxxf xvq8zen xo1l8bm xzsf02u',i)\n",
    "            date_format = '%B %d, %Y'\n",
    "            data[\"creation_date\"] = datetime.strptime(data[\"creation_date\"], date_format)\n",
    "        except:\n",
    "            i+=1\n",
    "        else:\n",
    "            break        \n",
    "    driver.get('https://www.facebook.com/pythonprogramming.net')        \n",
    "    return data             "
   ]
  },
  {
   "cell_type": "code",
   "execution_count": 15,
   "id": "be3508a2",
   "metadata": {},
   "outputs": [],
   "source": [
    "data = scrap_fb_python_page()"
   ]
  },
  {
   "cell_type": "code",
   "execution_count": 16,
   "id": "ec6257d0",
   "metadata": {},
   "outputs": [
    {
     "data": {
      "text/plain": [
       "{'page_name': 'Python Programming',\n",
       " 'nb_likes': '152K',\n",
       " 'nb_follower': '163K',\n",
       " 'page_type': 'Interest',\n",
       " 'contact': 'harrison@pythonprogramming.net',\n",
       " 'website': 'pythonprogramming.net',\n",
       " 'description': 'PythonProgramming.net is a programming tutorials / educational site containing over a thousand video',\n",
       " 'creation_date': datetime.datetime(2015, 1, 10, 0, 0)}"
      ]
     },
     "execution_count": 16,
     "metadata": {},
     "output_type": "execute_result"
    }
   ],
   "source": [
    "data"
   ]
  },
  {
   "cell_type": "markdown",
   "id": "61f5db1e",
   "metadata": {},
   "source": [
    "# Save to mongodb"
   ]
  },
  {
   "cell_type": "code",
   "execution_count": 18,
   "id": "a6ddf41d",
   "metadata": {},
   "outputs": [
    {
     "name": "stderr",
     "output_type": "stream",
     "text": [
      "C:\\Users\\Admin\\AppData\\Local\\Programs\\Python\\Python310\\lib\\site-packages\\requests\\__init__.py:102: RequestsDependencyWarning: urllib3 (1.26.9) or chardet (5.1.0)/charset_normalizer (2.0.12) doesn't match a supported version!\n",
      "  warnings.warn(\"urllib3 ({}) or chardet ({})/charset_normalizer ({}) doesn't match a supported \"\n"
     ]
    }
   ],
   "source": [
    "from pymongo import MongoClient"
   ]
  },
  {
   "cell_type": "code",
   "execution_count": 19,
   "id": "2de50fe6",
   "metadata": {},
   "outputs": [],
   "source": [
    "client = MongoClient(\"mongodb://localhost:27017/\")\n",
    "db = client[\"fc_data\"]\n",
    "collection = db[\"python_page\"]"
   ]
  },
  {
   "cell_type": "code",
   "execution_count": 26,
   "id": "fac74739",
   "metadata": {},
   "outputs": [
    {
     "name": "stdout",
     "output_type": "stream",
     "text": [
      "5\n"
     ]
    }
   ],
   "source": [
    "if \"Python Programming\" not in list(collection.find()):\n",
    "    print(\"5\")"
   ]
  },
  {
   "cell_type": "code",
   "execution_count": 27,
   "id": "66f6a3f5",
   "metadata": {},
   "outputs": [
    {
     "data": {
      "text/plain": [
       "[{'_id': ObjectId('63efe3fa77f146544df71c27'),\n",
       "  'page_name': 'Python Programming',\n",
       "  'nb_likes': '152K',\n",
       "  'nb_follower': '163K',\n",
       "  'page_type': 'Interest',\n",
       "  'contact': 'harrison@pythonprogramming.net',\n",
       "  'website': 'pythonprogramming.net',\n",
       "  'description': 'PythonProgramming.net is a programming tutorials / educational site containing over a thousand video',\n",
       "  'creation_date': datetime.datetime(2015, 1, 10, 0, 0)}]"
      ]
     },
     "execution_count": 27,
     "metadata": {},
     "output_type": "execute_result"
    }
   ],
   "source": [
    "list(collection.find())"
   ]
  },
  {
   "cell_type": "code",
   "execution_count": null,
   "id": "74fcb109",
   "metadata": {},
   "outputs": [],
   "source": [
    "result = collection.insert_one(data)"
   ]
  },
  {
   "cell_type": "code",
   "execution_count": null,
   "id": "38bf67c1",
   "metadata": {},
   "outputs": [],
   "source": []
  }
 ],
 "metadata": {
  "kernelspec": {
   "display_name": "Python 3 (ipykernel)",
   "language": "python",
   "name": "python3"
  },
  "language_info": {
   "codemirror_mode": {
    "name": "ipython",
    "version": 3
   },
   "file_extension": ".py",
   "mimetype": "text/x-python",
   "name": "python",
   "nbconvert_exporter": "python",
   "pygments_lexer": "ipython3",
   "version": "3.10.4"
  }
 },
 "nbformat": 4,
 "nbformat_minor": 5
}
